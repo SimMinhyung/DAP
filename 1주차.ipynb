{
  "nbformat": 4,
  "nbformat_minor": 0,
  "metadata": {
    "colab": {
      "provenance": []
    },
    "kernelspec": {
      "name": "python3",
      "display_name": "Python 3"
    },
    "language_info": {
      "name": "python"
    }
  },
  "cells": [
    {
      "cell_type": "code",
      "execution_count": 1,
      "metadata": {
        "id": "BUC43Qtybuk4"
      },
      "outputs": [],
      "source": [
        "import numpy as np\n",
        "import pandas as pd\n",
        "import scipy\n",
        "import matplotlib\n",
        "import seaborn as sns\n",
        "import sklearn"
      ]
    },
    {
      "cell_type": "code",
      "source": [
        "print(f'numpy version:{np.__version__}')\n",
        "print(f'pandas version:{pd.__version__}')\n",
        "print(f'scipy version:{scipy.__version__}')\n",
        "print(f'matplotlib version:{matplotlib.__version__}')\n",
        "print(f'seaborn version:{sns.__version__}')\n",
        "print(f'sklearn version:{sklearn.__version__}')"
      ],
      "metadata": {
        "colab": {
          "base_uri": "https://localhost:8080/"
        },
        "id": "EV7L_Tt1cUFe",
        "outputId": "321dc618-7c4c-4aa4-9c3b-142e4e45bf22"
      },
      "execution_count": 4,
      "outputs": [
        {
          "output_type": "stream",
          "name": "stdout",
          "text": [
            "numpy version:1.21.6\n",
            "pandas version:1.3.5\n",
            "scipy version:1.7.3\n",
            "matplotlib version:3.2.2\n",
            "seaborn version:0.11.2\n",
            "sklearn version:1.0.2\n"
          ]
        }
      ]
    },
    {
      "cell_type": "code",
      "source": [],
      "metadata": {
        "id": "DAsM0p8xcUH9"
      },
      "execution_count": null,
      "outputs": []
    },
    {
      "cell_type": "markdown",
      "source": [],
      "metadata": {
        "id": "rnv4uAjlb_L-"
      }
    }
  ]
}